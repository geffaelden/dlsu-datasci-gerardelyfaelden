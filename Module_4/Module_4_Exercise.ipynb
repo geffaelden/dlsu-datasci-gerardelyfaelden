{
 "cells": [
  {
   "cell_type": "markdown",
   "metadata": {},
   "source": [
    "# Data Visualization Exercise\n",
    "\n",
    "For this exercise, use your creativity and understanding of the different concepts of data visualization.\n",
    "\n",
    "Create a plot (or a series of subplots) from whatever dataset you choose. As much as possible, please choose a dataset of relevance for visual storytelling. Make the plot using `python`. It doesn't matter if you choose to use `matplotlib` or `seaborn`. \n",
    "\n",
    "For the submission:\n",
    "1. Upload the code that generates the plot to your GitHub repository or to Google Classroom (whichever method you're using for submissions).\n",
    "2. Upload a png file of the visualization to Google Classroom and write in the Private Comments the caption for the figure you submitted.\n",
    "3. Make sure to provide the data source in the same folder.\n",
    "\n",
    "Please make an effort to make it a good and compelling graphic. Choose your colors according to the type of data you're visualizing. Make sure to label everything and avoid clutter. \n",
    "\n",
    "As a reference for color choices, you can go to [CARTOColors](https://carto.com/carto-colors/). Simply click on the color map of your choice and it will copy the HEX code of the color."
   ]
  },
  {
   "cell_type": "code",
   "execution_count": 1,
   "metadata": {},
   "outputs": [
    {
     "name": "stdout",
     "output_type": "stream",
     "text": [
      "Populating the interactive namespace from numpy and matplotlib\n"
     ]
    }
   ],
   "source": [
    "import pandas as pd\n",
    "import numpy as np\n",
    "import matplotlib.pyplot as plt\n",
    "import seaborn as sns\n",
    "\n",
    "%pylab inline"
   ]
  },
  {
   "cell_type": "markdown",
   "metadata": {},
   "source": [
    "### Data Source\n",
    "\n",
    "Edit this cell to place the direct link to your data source.\n",
    "\n",
    "You may use the datasets you've downloaded for your project as your submission for this assignment. "
   ]
  },
  {
   "cell_type": "code",
   "execution_count": 2,
   "metadata": {},
   "outputs": [
    {
     "data": {
      "text/html": [
       "<div>\n",
       "<style scoped>\n",
       "    .dataframe tbody tr th:only-of-type {\n",
       "        vertical-align: middle;\n",
       "    }\n",
       "\n",
       "    .dataframe tbody tr th {\n",
       "        vertical-align: top;\n",
       "    }\n",
       "\n",
       "    .dataframe thead th {\n",
       "        text-align: right;\n",
       "    }\n",
       "</style>\n",
       "<table border=\"1\" class=\"dataframe\">\n",
       "  <thead>\n",
       "    <tr style=\"text-align: right;\">\n",
       "      <th></th>\n",
       "      <th>NUMBER</th>\n",
       "      <th>CODE</th>\n",
       "      <th>SERIAL</th>\n",
       "      <th>NAME</th>\n",
       "      <th>TYPE1</th>\n",
       "      <th>TYPE2</th>\n",
       "      <th>COLOR</th>\n",
       "      <th>ABILITY1</th>\n",
       "      <th>ABILITY2</th>\n",
       "      <th>ABILITY HIDDEN</th>\n",
       "      <th>...</th>\n",
       "      <th>MEGA_EVOLUTION</th>\n",
       "      <th>HEIGHT</th>\n",
       "      <th>WEIGHT</th>\n",
       "      <th>HP</th>\n",
       "      <th>ATK</th>\n",
       "      <th>DEF</th>\n",
       "      <th>SP_ATK</th>\n",
       "      <th>SP_DEF</th>\n",
       "      <th>SPD</th>\n",
       "      <th>TOTAL</th>\n",
       "    </tr>\n",
       "  </thead>\n",
       "  <tbody>\n",
       "    <tr>\n",
       "      <th>0</th>\n",
       "      <td>1</td>\n",
       "      <td>1</td>\n",
       "      <td>11</td>\n",
       "      <td>Bulbasaur</td>\n",
       "      <td>Grass</td>\n",
       "      <td>Poison</td>\n",
       "      <td>Green</td>\n",
       "      <td>Overgrow</td>\n",
       "      <td>NaN</td>\n",
       "      <td>Chrolophyll</td>\n",
       "      <td>...</td>\n",
       "      <td>0</td>\n",
       "      <td>0.7</td>\n",
       "      <td>6.9</td>\n",
       "      <td>45</td>\n",
       "      <td>49</td>\n",
       "      <td>49</td>\n",
       "      <td>65</td>\n",
       "      <td>65</td>\n",
       "      <td>45</td>\n",
       "      <td>318</td>\n",
       "    </tr>\n",
       "    <tr>\n",
       "      <th>1</th>\n",
       "      <td>2</td>\n",
       "      <td>1</td>\n",
       "      <td>21</td>\n",
       "      <td>Ivysaur</td>\n",
       "      <td>Grass</td>\n",
       "      <td>Poison</td>\n",
       "      <td>Green</td>\n",
       "      <td>Overgrow</td>\n",
       "      <td>NaN</td>\n",
       "      <td>Chrolophyll</td>\n",
       "      <td>...</td>\n",
       "      <td>0</td>\n",
       "      <td>1.0</td>\n",
       "      <td>13.0</td>\n",
       "      <td>60</td>\n",
       "      <td>62</td>\n",
       "      <td>63</td>\n",
       "      <td>80</td>\n",
       "      <td>80</td>\n",
       "      <td>60</td>\n",
       "      <td>405</td>\n",
       "    </tr>\n",
       "    <tr>\n",
       "      <th>2</th>\n",
       "      <td>3</td>\n",
       "      <td>1</td>\n",
       "      <td>31</td>\n",
       "      <td>Venusaur</td>\n",
       "      <td>Grass</td>\n",
       "      <td>Poison</td>\n",
       "      <td>Green</td>\n",
       "      <td>Overgrow</td>\n",
       "      <td>NaN</td>\n",
       "      <td>Chrolophyll</td>\n",
       "      <td>...</td>\n",
       "      <td>0</td>\n",
       "      <td>2.0</td>\n",
       "      <td>100.0</td>\n",
       "      <td>80</td>\n",
       "      <td>82</td>\n",
       "      <td>83</td>\n",
       "      <td>100</td>\n",
       "      <td>100</td>\n",
       "      <td>80</td>\n",
       "      <td>525</td>\n",
       "    </tr>\n",
       "    <tr>\n",
       "      <th>3</th>\n",
       "      <td>3</td>\n",
       "      <td>2</td>\n",
       "      <td>32</td>\n",
       "      <td>Mega Venusaur</td>\n",
       "      <td>Grass</td>\n",
       "      <td>Poison</td>\n",
       "      <td>Green</td>\n",
       "      <td>Thick Fat</td>\n",
       "      <td>NaN</td>\n",
       "      <td>NaN</td>\n",
       "      <td>...</td>\n",
       "      <td>1</td>\n",
       "      <td>2.4</td>\n",
       "      <td>155.5</td>\n",
       "      <td>80</td>\n",
       "      <td>100</td>\n",
       "      <td>123</td>\n",
       "      <td>122</td>\n",
       "      <td>120</td>\n",
       "      <td>80</td>\n",
       "      <td>625</td>\n",
       "    </tr>\n",
       "    <tr>\n",
       "      <th>4</th>\n",
       "      <td>4</td>\n",
       "      <td>1</td>\n",
       "      <td>41</td>\n",
       "      <td>Charmander</td>\n",
       "      <td>Fire</td>\n",
       "      <td>NaN</td>\n",
       "      <td>Red</td>\n",
       "      <td>Blaze</td>\n",
       "      <td>NaN</td>\n",
       "      <td>Solar Power</td>\n",
       "      <td>...</td>\n",
       "      <td>0</td>\n",
       "      <td>0.6</td>\n",
       "      <td>8.5</td>\n",
       "      <td>39</td>\n",
       "      <td>52</td>\n",
       "      <td>43</td>\n",
       "      <td>60</td>\n",
       "      <td>50</td>\n",
       "      <td>65</td>\n",
       "      <td>309</td>\n",
       "    </tr>\n",
       "  </tbody>\n",
       "</table>\n",
       "<p>5 rows × 22 columns</p>\n",
       "</div>"
      ],
      "text/plain": [
       "   NUMBER  CODE  SERIAL           NAME  TYPE1   TYPE2  COLOR   ABILITY1  \\\n",
       "0       1     1      11      Bulbasaur  Grass  Poison  Green   Overgrow   \n",
       "1       2     1      21        Ivysaur  Grass  Poison  Green   Overgrow   \n",
       "2       3     1      31       Venusaur  Grass  Poison  Green   Overgrow   \n",
       "3       3     2      32  Mega Venusaur  Grass  Poison  Green  Thick Fat   \n",
       "4       4     1      41     Charmander   Fire     NaN    Red      Blaze   \n",
       "\n",
       "  ABILITY2 ABILITY HIDDEN  ...  MEGA_EVOLUTION  HEIGHT  WEIGHT  HP  ATK  DEF  \\\n",
       "0      NaN    Chrolophyll  ...               0     0.7     6.9  45   49   49   \n",
       "1      NaN    Chrolophyll  ...               0     1.0    13.0  60   62   63   \n",
       "2      NaN    Chrolophyll  ...               0     2.0   100.0  80   82   83   \n",
       "3      NaN            NaN  ...               1     2.4   155.5  80  100  123   \n",
       "4      NaN    Solar Power  ...               0     0.6     8.5  39   52   43   \n",
       "\n",
       "   SP_ATK  SP_DEF  SPD  TOTAL  \n",
       "0      65      65   45    318  \n",
       "1      80      80   60    405  \n",
       "2     100     100   80    525  \n",
       "3     122     120   80    625  \n",
       "4      60      50   65    309  \n",
       "\n",
       "[5 rows x 22 columns]"
      ]
     },
     "execution_count": 2,
     "metadata": {},
     "output_type": "execute_result"
    }
   ],
   "source": [
    "# Read in data\n",
    "data = pd.read_csv('pokedex.csv')\n",
    "data.head(5)"
   ]
  },
  {
   "cell_type": "code",
   "execution_count": 3,
   "metadata": {},
   "outputs": [
    {
     "data": {
      "text/plain": [
       "Index(['NUMBER', 'CODE', 'SERIAL', 'NAME', 'TYPE1', 'TYPE2', 'COLOR',\n",
       "       'ABILITY1', 'ABILITY2', 'ABILITY HIDDEN', 'GENERATION', 'LEGENDARY',\n",
       "       'MEGA_EVOLUTION', 'HEIGHT', 'WEIGHT', 'HP', 'ATK', 'DEF', 'SP_ATK',\n",
       "       'SP_DEF', 'SPD', 'TOTAL'],\n",
       "      dtype='object')"
      ]
     },
     "execution_count": 3,
     "metadata": {},
     "output_type": "execute_result"
    }
   ],
   "source": [
    "data.columns"
   ]
  },
  {
   "cell_type": "code",
   "execution_count": 4,
   "metadata": {},
   "outputs": [
    {
     "name": "stdout",
     "output_type": "stream",
     "text": [
      "Total Pokemon Count (incl. variations):  1041\n",
      "Unique Pokemon Count:  893\n",
      "Legendary Pokemon Count:  88\n",
      "Mega-Evolution Capable Pokemon Count:  48\n"
     ]
    }
   ],
   "source": [
    "# Perform your data wrangling and descriptive stats to help\n",
    "print('Total Pokemon Count (incl. variations): ', len(data))\n",
    "print('Unique Pokemon Count: ', data['NUMBER'].drop_duplicates().count())\n",
    "print('Legendary Pokemon Count: ', data[data['LEGENDARY']==1]['NUMBER'].drop_duplicates().count())\n",
    "print('Mega-Evolution Capable Pokemon Count: ', data[data['MEGA_EVOLUTION']==1]['NUMBER'].drop_duplicates().count())"
   ]
  },
  {
   "cell_type": "code",
   "execution_count": 5,
   "metadata": {},
   "outputs": [
    {
     "data": {
      "text/plain": [
       "Text(0, 0.5, 'No. of Pokemon')"
      ]
     },
     "execution_count": 5,
     "metadata": {},
     "output_type": "execute_result"
    },
    {
     "data": {
      "image/png": "[encoded data removed]",
      "text/plain": [
       "<Figure size 720x360 with 1 Axes>"
      ]
     },
     "metadata": {
      "needs_background": "light"
     },
     "output_type": "display_data"
    }
   ],
   "source": [
    "fig = plt.figure(figsize=(10, 5))\n",
    "plt.hist(data.query(\"LEGENDARY == 0 & MEGA_EVOLUTION == 0\")['TOTAL'], label='non-legendary', bins=50, alpha=.7,)\n",
    "plt.hist(data.query(\"LEGENDARY == 1 & MEGA_EVOLUTION == 0\")['TOTAL'], label='legendary', bins=50, alpha=.7)\n",
    "plt.hist(data.query(\"MEGA_EVOLUTION == 1\")['TOTAL'], label='megas', bins=30, alpha=.7)\n",
    "plt.legend(loc='best')\n",
    "# Here you can override the colors of set using rcParams by simply passing a value for the arguments.\n",
    "plt.title('Distribution of Pokemon\\'s Total Stats')\n",
    "plt.xlabel('Total Base Stat')\n",
    "plt.ylabel('No. of Pokemon')"
   ]
  },
  {
   "cell_type": "code",
   "execution_count": 7,
   "metadata": {},
   "outputs": [],
   "source": [
    "# Visualize your data\n",
    "fig.savefig('pokemonbasestatdistribution_gerardely_faelden.png')"
   ]
  },
  {
   "cell_type": "markdown",
   "metadata": {},
   "source": [
    "Caption: This is a figure about the distrubution of Pokemon's total base stats grouped by Regular Pokemon, Legendaries, and Mega Evolutions"
   ]
  }
 ],
 "metadata": {
  "kernelspec": {
   "display_name": "Python 3",
   "language": "python",
   "name": "python3"
  },
  "language_info": {
   "codemirror_mode": {
    "name": "ipython",
    "version": 3
   },
   "file_extension": ".py",
   "mimetype": "text/x-python",
   "name": "python",
   "nbconvert_exporter": "python",
   "pygments_lexer": "ipython3",
   "version": "3.7.7"
  }
 },
 "nbformat": 4,
 "nbformat_minor": 4
}
